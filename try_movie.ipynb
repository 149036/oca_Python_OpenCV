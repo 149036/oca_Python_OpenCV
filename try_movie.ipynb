{
 "cells": [
  {
   "cell_type": "code",
   "execution_count": 103,
   "metadata": {},
   "outputs": [],
   "source": [
    "import cv2 "
   ]
  },
  {
   "cell_type": "code",
   "execution_count": 104,
   "metadata": {},
   "outputs": [],
   "source": [
    "data = cv2.VideoCapture('./sample.mp4')"
   ]
  },
  {
   "cell_type": "code",
   "execution_count": 105,
   "metadata": {},
   "outputs": [],
   "source": [
    "cat_cascade = cv2.CascadeClassifier('./cascade.xml')"
   ]
  },
  {
   "cell_type": "code",
   "execution_count": 106,
   "metadata": {},
   "outputs": [],
   "source": [
    "#type(data)"
   ]
  },
  {
   "cell_type": "code",
   "execution_count": 107,
   "metadata": {},
   "outputs": [],
   "source": [
    "#data.isOpened()"
   ]
  },
  {
   "cell_type": "code",
   "execution_count": 108,
   "metadata": {},
   "outputs": [],
   "source": [
    "def movie(data, cat_cascade):\n",
    "\n",
    "    while 1:\n",
    "        ret, frame = data.read()\n",
    "        if ret:\n",
    "            gray_data = cv2.cvtColor(frame, cv2.COLOR_BGR2GRAY)\n",
    "            detect = cat_cascade.detectMultiScale(gray_data)\n",
    "            cv2.imshow('sample data', frame)\n",
    "            for x, y, w, h in detect:\n",
    "                cv2.rectangle(gray_data, (x, y),\n",
    "                              (x + w, y + h), (0, 0, 255), 2)\n",
    "              \n",
    "            if cv2.waitKey(1) & 0xFF == ord('q'):\n",
    "                break\n",
    "        else:\n",
    "            data.set(cv2.CAP_PROP_POS_FRAMES, 0)\n",
    "    cv2.destroyWindow('sample data')\n"
   ]
  },
  {
   "cell_type": "code",
   "execution_count": 109,
   "metadata": {},
   "outputs": [],
   "source": [
    "movie(data, cat_cascade)\n"
   ]
  }
 ],
 "metadata": {
  "kernelspec": {
   "display_name": "venv",
   "language": "python",
   "name": "python3"
  },
  "language_info": {
   "codemirror_mode": {
    "name": "ipython",
    "version": 3
   },
   "file_extension": ".py",
   "mimetype": "text/x-python",
   "name": "python",
   "nbconvert_exporter": "python",
   "pygments_lexer": "ipython3",
   "version": "3.10.6"
  },
  "orig_nbformat": 4
 },
 "nbformat": 4,
 "nbformat_minor": 2
}
